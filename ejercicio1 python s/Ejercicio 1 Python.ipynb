{
 "cells": [
  {
   "cell_type": "code",
   "execution_count": 13,
   "id": "937ad17e",
   "metadata": {},
   "outputs": [
    {
     "name": "stdout",
     "output_type": "stream",
     "text": [
      "['The', 'universe', \"doesn't\", 'allow', 'perfection']\n"
     ]
    }
   ],
   "source": [
    "# Operaciones con strings \n",
    "\n",
    "s = \"The universe doesn't allow perfection\"\n",
    "palabras = s.split()\n",
    "print(palabras)"
   ]
  },
  {
   "cell_type": "code",
   "execution_count": 5,
   "id": "9dbac26f",
   "metadata": {},
   "outputs": [
    {
     "name": "stdout",
     "output_type": "stream",
     "text": [
      "61\n"
     ]
    }
   ],
   "source": [
    "s = \"El pasado puede doler, pero tal como yo lo veo, puedes huir o aprender de él\"\n",
    "contador = 0\n",
    "for letra in s:\n",
    "    if letra != \" \":\n",
    "        contador += 1\n",
    "print(contador)"
   ]
  },
  {
   "cell_type": "code",
   "execution_count": 6,
   "id": "86a1821f",
   "metadata": {},
   "outputs": [
    {
     "name": "stdout",
     "output_type": "stream",
     "text": [
      "If you wish to make an banana pie from scratch, you must first invent the universe\n"
     ]
    }
   ],
   "source": [
    "s = \"If you wish to make an apple pie from scratch, you must first invent the universe\"\n",
    "r = s.replace('apple', 'banana')\n",
    "print (r)"
   ]
  },
  {
   "cell_type": "code",
   "execution_count": 12,
   "id": "2c882a74",
   "metadata": {},
   "outputs": [
    {
     "name": "stdout",
     "output_type": "stream",
     "text": [
      "The diameter of Earth is 12742 kilometers\n"
     ]
    }
   ],
   "source": [
    "frase = \"The diameter of {planet} is {diameter} kilometers\".format(planet = \"Earth\", diameter = \"12742\")\n",
    "print (frase)"
   ]
  },
  {
   "cell_type": "code",
   "execution_count": 18,
   "id": "6efe3627",
   "metadata": {},
   "outputs": [
    {
     "name": "stdout",
     "output_type": "stream",
     "text": [
      "[0, 1, 2]\n"
     ]
    }
   ],
   "source": [
    "# Operaciones con listas\n",
    "\n",
    "lst = [0, 1, 2, 3, 4, 5, 6, 7, 8, 9, 10]\n",
    "new_list = lst[:3]\n",
    "print(new_list)"
   ]
  },
  {
   "cell_type": "code",
   "execution_count": 29,
   "id": "a4868b08",
   "metadata": {},
   "outputs": [
    {
     "name": "stdout",
     "output_type": "stream",
     "text": [
      "[8, 9, 10]\n"
     ]
    }
   ],
   "source": [
    "lst = [0, 1, 2, 3, 4, 5, 6, 7, 8, 9, 10]\n",
    "\n",
    "new_list = lst[-3:]\n",
    "print(new_list)"
   ]
  },
  {
   "cell_type": "code",
   "execution_count": 30,
   "id": "4180cafe",
   "metadata": {},
   "outputs": [
    {
     "name": "stdout",
     "output_type": "stream",
     "text": [
      "[0, 2, 4, 6, 8, 10]\n"
     ]
    }
   ],
   "source": [
    "# Números pares \n",
    "\n",
    "lst = [0, 1, 2, 3, 4, 5, 6, 7, 8, 9, 10]\n",
    "par_number = []\n",
    "\n",
    "for i in lst:\n",
    "    if( i % 2 ) == 0:\n",
    "        par_number.append(i)\n",
    "            \n",
    "print (par_number)"
   ]
  },
  {
   "cell_type": "code",
   "execution_count": 31,
   "id": "984c3802",
   "metadata": {},
   "outputs": [
    {
     "name": "stdout",
     "output_type": "stream",
     "text": [
      "[10, 9, 8, 7, 6, 5, 4, 3, 2, 1, 0]\n"
     ]
    }
   ],
   "source": [
    "# Revertir la lista\n",
    "\n",
    "lst = [0, 1, 2, 3, 4, 5, 6, 7, 8, 9, 10]\n",
    "lst.reverse()\n",
    "\n",
    "print(lst)"
   ]
  },
  {
   "cell_type": "code",
   "execution_count": 41,
   "id": "afb61391",
   "metadata": {},
   "outputs": [
    {
     "name": "stdout",
     "output_type": "stream",
     "text": [
      "[0, 1, 1, 1, 2, 3, 4, 6, 7, 12, 14]\n"
     ]
    }
   ],
   "source": [
    "# Ordenar de menor a mayor\n",
    "\n",
    "lst = [4, 1, 6, 12, 3, 2, 1, 7, 1, 0, 14]\n",
    "\n",
    "num_ordenados = sorted(lst)\n",
    "\n",
    "print (num_ordenados)"
   ]
  },
  {
   "cell_type": "code",
   "execution_count": 40,
   "id": "c89caeae",
   "metadata": {},
   "outputs": [
    {
     "name": "stdout",
     "output_type": "stream",
     "text": [
      "hello\n"
     ]
    }
   ],
   "source": [
    "# Imprimir \"Hello\"\n",
    "\n",
    "lst = [1,2,[3,4],[5,[100,200,['hello']],23,11],1,7]\n",
    "\n",
    "word_hello = lst[3][1][2][0]\n",
    "    \n",
    "print (word_hello)"
   ]
  },
  {
   "cell_type": "code",
   "execution_count": 50,
   "id": "63940267",
   "metadata": {},
   "outputs": [],
   "source": [
    "# Ordenar la siguiente lista de diccionarios de mayor a menor y de menor a mayor según el valor de 'age'\n",
    "\n",
    "lst = [\n",
    "    {\n",
    "        \"name\": \"A\",\n",
    "        \"age\": 12\n",
    "    },\n",
    "        {\n",
    "        \"name\": \"B\",\n",
    "        \"age\": 22\n",
    "    },\n",
    "        {\n",
    "        \"name\": \"C\",\n",
    "        \"age\": 2\n",
    "    },\n",
    "        {\n",
    "        \"name\": \"D\",\n",
    "        \"age\": 4\n",
    "    },\n",
    "        {\n",
    "        \"name\": \"E\",\n",
    "        \"age\": 42\n",
    "    },\n",
    "]"
   ]
  },
  {
   "cell_type": "code",
   "execution_count": 55,
   "id": "5503daff",
   "metadata": {},
   "outputs": [
    {
     "name": "stdout",
     "output_type": "stream",
     "text": [
      "Email: karolfuentescaro@gmail.com\n",
      "Email domain: gmail.com\n"
     ]
    }
   ],
   "source": [
    "# Funciones \n",
    "\n",
    "def obtener_dominio(email):\n",
    "    partes_email = email.split('@')\n",
    "\n",
    "    if len(partes_email) == 2:\n",
    "        return partes_email[1]\n",
    "    else:\n",
    "        return None  # None si no es válido\n",
    "\n",
    "email = \"karolfuentescaro@gmail.com\"\n",
    "obtener_dominio = obtener_dominio(email)\n",
    "\n",
    "print(\"Email:\", email)\n",
    "print(\"Email domain:\", obtener_dominio)"
   ]
  },
  {
   "cell_type": "code",
   "execution_count": null,
   "id": "88de3aad",
   "metadata": {},
   "outputs": [],
   "source": [
    "# filtrar palabras que no empiezan en s\n",
    "\n",
    "seq = ['soup', 'dog', 'salad', 'cat', 'great']\n",
    "\n",
    "filtered_words = list(filter(lambda word: word[0] != 's', seq))\n",
    "\n",
    "print(filtered_words)"
   ]
  },
  {
   "cell_type": "code",
   "execution_count": 69,
   "id": "6084c678",
   "metadata": {},
   "outputs": [
    {
     "name": "stdout",
     "output_type": "stream",
     "text": [
      "False\n"
     ]
    }
   ],
   "source": [
    "def verify_word(frase, palabra):\n",
    "    return palabra in frase\n",
    "\n",
    "entered_phrase = \"Adventure of a lifetime\"\n",
    "entered_word = \"cat\"\n",
    "\n",
    "# Llamar a la función y mostrar el resultado\n",
    "resultado = verify_word(entered_phrase, entered_word)\n",
    "\n",
    "print(resultado)"
   ]
  },
  {
   "cell_type": "code",
   "execution_count": 74,
   "id": "a24ea3b8",
   "metadata": {},
   "outputs": [
    {
     "name": "stdout",
     "output_type": "stream",
     "text": [
      "True\n"
     ]
    }
   ],
   "source": [
    "# Verificar si está dog en la frase\n",
    "\n",
    "s = \"Is there a dog here?\"\n",
    "\n",
    "def contiene_palabra_dog(cadena):\n",
    "    return 'dog' in cadena\n",
    "resultado = contiene_palabra_dog(s)\n",
    "\n",
    "print(resultado)"
   ]
  },
  {
   "cell_type": "code",
   "execution_count": 76,
   "id": "7f03c48e",
   "metadata": {},
   "outputs": [
    {
     "name": "stdout",
     "output_type": "stream",
     "text": [
      "2\n"
     ]
    }
   ],
   "source": [
    "def counter_dog(phrase):\n",
    "    return phrase.lower().count('dog')\n",
    "\n",
    "s = \"This dog runs faster than the other dog dude!\"\n",
    "result = counter_dog(s)\n",
    "\n",
    "print(result)"
   ]
  },
  {
   "cell_type": "code",
   "execution_count": null,
   "id": "9ef9f19e",
   "metadata": {},
   "outputs": [],
   "source": [
    "# Numpy Básico\n",
    "\n",
    "import numpy as np"
   ]
  },
  {
   "cell_type": "code",
   "execution_count": 82,
   "id": "e0597768",
   "metadata": {},
   "outputs": [
    {
     "name": "stdout",
     "output_type": "stream",
     "text": [
      "[0. 0. 0. 0. 0. 0. 0. 0. 0. 0.]\n"
     ]
    }
   ],
   "source": [
    "# Arreglo de 10 ceros \n",
    "import numpy as np\n",
    "\n",
    "zeros_array = np.zeros(10)\n",
    "\n",
    "print(zeros_array)"
   ]
  },
  {
   "cell_type": "code",
   "execution_count": 83,
   "id": "8af1cc1c",
   "metadata": {},
   "outputs": [
    {
     "name": "stdout",
     "output_type": "stream",
     "text": [
      "[1. 1. 1. 1. 1. 1. 1. 1. 1. 1.]\n"
     ]
    }
   ],
   "source": [
    "# Arreglo de 10 unos\n",
    "import numpy as np\n",
    "\n",
    "ones_array = np.ones(10)\n",
    "\n",
    "print(ones_array)"
   ]
  },
  {
   "cell_type": "code",
   "execution_count": 88,
   "id": "fdbb0e44",
   "metadata": {},
   "outputs": [
    {
     "name": "stdout",
     "output_type": "stream",
     "text": [
      "[5. 5. 5. 5. 5. 5. 5. 5. 5. 5.]\n"
     ]
    }
   ],
   "source": [
    "# Arreglo de 10 cincos\n",
    "import numpy as np\n",
    "\n",
    "five_array = np.ones(10) * 5\n",
    "\n",
    "print(five_array)"
   ]
  },
  {
   "cell_type": "code",
   "execution_count": 91,
   "id": "50193815",
   "metadata": {},
   "outputs": [
    {
     "name": "stdout",
     "output_type": "stream",
     "text": [
      "[10 11 12 13 14 15 16 17 18 19 20 21 22 23 24 25 26 27 28 29 30 31 32 33\n",
      " 34 35 36 37 38 39 40 41 42 43 44 45 46 47 48 49 50]\n"
     ]
    }
   ],
   "source": [
    "# Crea un areglo de enteros (int) de 10 a 50\n",
    "import numpy as np\n",
    "\n",
    "num_enteros = np.arange(10, 51)\n",
    "\n",
    "print(num_enteros)"
   ]
  },
  {
   "cell_type": "code",
   "execution_count": 92,
   "id": "d145cbd7",
   "metadata": {},
   "outputs": [
    {
     "name": "stdout",
     "output_type": "stream",
     "text": [
      "[[0 1 2]\n",
      " [3 4 5]\n",
      " [6 7 8]]\n"
     ]
    }
   ],
   "source": [
    "#Matriz 3x3 de 0-8\n",
    "import numpy as np\n",
    "\n",
    "matriz = np.arange(9).reshape(3, 3)\n",
    "\n",
    "print(matriz)"
   ]
  },
  {
   "cell_type": "code",
   "execution_count": 96,
   "id": "bc3b5802",
   "metadata": {},
   "outputs": [
    {
     "name": "stdout",
     "output_type": "stream",
     "text": [
      "[56 49 73 18 51 65 98 27 87 31 97 10 25 68 71 78 72 84 51 96]\n"
     ]
    }
   ],
   "source": [
    "# Array aleatorio [20] entre 10 y 100\n",
    "import numpy as np\n",
    "\n",
    "random_array = np.random.randint(10, 101, size=20)\n",
    "\n",
    "print(random_array)"
   ]
  },
  {
   "cell_type": "code",
   "execution_count": 98,
   "id": "a9d58f6c",
   "metadata": {},
   "outputs": [],
   "source": [
    "# Pandas Básico\n",
    "\n",
    "import pandas as pd"
   ]
  },
  {
   "cell_type": "code",
   "execution_count": 108,
   "id": "21e20d87",
   "metadata": {},
   "outputs": [],
   "source": [
    "# Leer el archivo CSV y crear un DataFrame llamado 'sal'\n",
    "import pandas as pd\n",
    "\n",
    "sal = pd.read_csv('Salaries.csv')"
   ]
  },
  {
   "cell_type": "code",
   "execution_count": 109,
   "id": "b6f4be7b",
   "metadata": {},
   "outputs": [
    {
     "name": "stdout",
     "output_type": "stream",
     "text": [
      "   Id       EmployeeName                                        JobTitle  \\\n",
      "0   1     NATHANIEL FORD  GENERAL MANAGER-METROPOLITAN TRANSIT AUTHORITY   \n",
      "1   2       GARY JIMENEZ                 CAPTAIN III (POLICE DEPARTMENT)   \n",
      "2   3     ALBERT PARDINI                 CAPTAIN III (POLICE DEPARTMENT)   \n",
      "3   4  CHRISTOPHER CHONG            WIRE ROPE CABLE MAINTENANCE MECHANIC   \n",
      "4   5    PATRICK GARDNER    DEPUTY CHIEF OF DEPARTMENT,(FIRE DEPARTMENT)   \n",
      "\n",
      "     BasePay  OvertimePay   OtherPay  Benefits   TotalPay  TotalPayBenefits  \\\n",
      "0  167411.18         0.00  400184.25       NaN  567595.43         567595.43   \n",
      "1  155966.02    245131.88  137811.38       NaN  538909.28         538909.28   \n",
      "2  212739.13    106088.18   16452.60       NaN  335279.91         335279.91   \n",
      "3   77916.00     56120.71  198306.90       NaN  332343.61         332343.61   \n",
      "4  134401.60      9737.00  182234.59       NaN  326373.19         326373.19   \n",
      "\n",
      "   Year  Notes         Agency  Status  \n",
      "0  2011    NaN  San Francisco     NaN  \n",
      "1  2011    NaN  San Francisco     NaN  \n",
      "2  2011    NaN  San Francisco     NaN  \n",
      "3  2011    NaN  San Francisco     NaN  \n",
      "4  2011    NaN  San Francisco     NaN  \n"
     ]
    }
   ],
   "source": [
    "# Revisar el head del dataframe (usar el métdodo head())\n",
    "import pandas as pd\n",
    "\n",
    "sal = pd.read_csv('Salaries.csv')\n",
    "\n",
    "print(sal.head())"
   ]
  },
  {
   "cell_type": "code",
   "execution_count": 115,
   "id": "ffcf19b1",
   "metadata": {},
   "outputs": [
    {
     "name": "stdout",
     "output_type": "stream",
     "text": [
      "El BasePay: 66325.4488404877\n"
     ]
    }
   ],
   "source": [
    "# Basepay\n",
    "import pandas as pd\n",
    "\n",
    "sal = pd.read_csv('Salaries.csv')\n",
    "\n",
    "promedio_basepay = sal['BasePay'].mean()\n",
    "\n",
    "print(f\"El BasePay: {promedio_basepay}\")"
   ]
  },
  {
   "cell_type": "code",
   "execution_count": 117,
   "id": "ee965c93",
   "metadata": {},
   "outputs": [
    {
     "name": "stdout",
     "output_type": "stream",
     "text": [
      "La cantidad más alta de OvertimePay es: 245131.88, en el conjunto de datos\n"
     ]
    }
   ],
   "source": [
    "import pandas as pd\n",
    "\n",
    "sal = pd.read_csv('Salaries.csv')\n",
    "max_overtimepay = sal['OvertimePay'].max()\n",
    "\n",
    "print(f\"La cantidad más alta de OvertimePay es: {max_overtimepay}, en el conjunto de datos\")"
   ]
  },
  {
   "cell_type": "code",
   "execution_count": 120,
   "id": "741550c0",
   "metadata": {},
   "outputs": [
    {
     "name": "stdout",
     "output_type": "stream",
     "text": [
      "El cargo de JOSEPH DRISCOLL es: CAPTAIN, FIRE SUPPRESSION\n"
     ]
    }
   ],
   "source": [
    "# ¿Cuál es el cargo de JOSEPH DRISCOLL? \n",
    "\n",
    "import pandas as pd\n",
    "\n",
    "sal = pd.read_csv('Salaries.csv')\n",
    "trabajador_name = sal[sal['EmployeeName'] == 'JOSEPH DRISCOLL']\n",
    "cargo_jd = joseph_driscoll_info['JobTitle'].values[0]\n",
    "\n",
    "print(f\"El cargo de JOSEPH DRISCOLL es: {cargo_jd}\")"
   ]
  },
  {
   "cell_type": "code",
   "execution_count": 123,
   "id": "16d334bb",
   "metadata": {},
   "outputs": [
    {
     "name": "stdout",
     "output_type": "stream",
     "text": [
      "El empleado mejor pagado (con beneficios) es: NATHANIEL FORD\n"
     ]
    }
   ],
   "source": [
    "# ¿Cuál es el nombre de la persona mejor pagada (incluidos los beneficios)?\n",
    "\n",
    "import pandas as pd\n",
    "\n",
    "sal = pd.read_csv('Salaries.csv')\n",
    "best_paid = sal.loc[sal['TotalPayBenefits'].idxmax()]\n",
    "name_bpaid = best_paid['EmployeeName']\n",
    "\n",
    "print(f\"El empleado mejor pagado (con beneficios) es: {name_bpaid}\")"
   ]
  },
  {
   "cell_type": "code",
   "execution_count": 127,
   "id": "aa1d0652",
   "metadata": {},
   "outputs": [
    {
     "name": "stdout",
     "output_type": "stream",
     "text": [
      "Hay 2159 títulos de trabajo únicos.\n"
     ]
    }
   ],
   "source": [
    "# ¿Cuántos títulos de trabajo únicos hay?\n",
    "import pandas as pd\n",
    "\n",
    "sal = pd.read_csv('Salaries.csv')\n",
    "unique_titles = sal['JobTitle'].nunique()\n",
    "\n",
    "print(f\"Hay {unique_titles} títulos de trabajo únicos.\")"
   ]
  },
  {
   "cell_type": "code",
   "execution_count": 4,
   "id": "f727bbd1",
   "metadata": {},
   "outputs": [],
   "source": [
    "import pandas as pd \n",
    "\n",
    "df = pd.read_csv(\"datitos.csv\")\n"
   ]
  },
  {
   "cell_type": "code",
   "execution_count": 7,
   "metadata": {},
   "outputs": [
    {
     "name": "stdout",
     "output_type": "stream",
     "text": [
      "¿Cómo lo quieres ordenar?\n",
      "1. Ordenar por edad\n",
      "2. Ordenar por número de hermanos\n",
      "3. Salir\n"
     ]
    }
   ],
   "source": [
    "def opciones():\n",
    "    print(\"¿Cómo lo quieres ordenar?\")\n",
    "    print(\"1. Ordenar por edad\")\n",
    "    print(\"2. Ordenar por número de hermanos\")\n",
    "    print(\"3. Salir\")\n",
    "\n",
    "    opcion = int(input(\"Digite la opción deseada: \"))\n",
    "    return opcion\n",
    "\n",
    "def ordenar_columna(df, columna, orden):\n",
    "    if orden == \"ascendente\":\n",
    "        df = df.sort_values(columna, ascending=True)\n",
    "    elif orden == \"descendente\":\n",
    "        df = df.sort_values(columna, ascending=False)\n",
    "    else:\n",
    "        print(\"No existe la opción escrita\")\n",
    "        return\n",
    "\n",
    "    print(df.to_string())\n",
    "\n",
    "def main():\n",
    "    while True:\n",
    "        opcion = opciones()\n",
    "        if opcion == 1:\n",
    "            columna = \"Edad\"\n",
    "        elif opcion == 2:\n",
    "            columna = \"# De hermanos\"\n",
    "        elif opcion == 3:\n",
    "            break\n",
    "        else:\n",
    "            print(\"Opción no válida.\")\n",
    "            continue\n",
    "\n",
    "        orden = input(\"Digite el tipo de ordenamiento (ascendente o descendente): \")\n",
    "        ordenar_columna(df.copy(), columna, orden)\n",
    "\n",
    "if __name__ == \"__main__\":\n",
    "    main()\n"
   ]
  }
 ],
 "metadata": {
  "kernelspec": {
   "display_name": "Python 3 (ipykernel)",
   "language": "python",
   "name": "python3"
  },
  "language_info": {
   "codemirror_mode": {
    "name": "ipython",
    "version": 3
   },
   "file_extension": ".py",
   "mimetype": "text/x-python",
   "name": "python",
   "nbconvert_exporter": "python",
   "pygments_lexer": "ipython3",
   "version": "3.11.5"
  }
 },
 "nbformat": 4,
 "nbformat_minor": 5
}
